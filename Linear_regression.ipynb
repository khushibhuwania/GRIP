{
 "nbformat": 4,
 "nbformat_minor": 0,
 "metadata": {
  "colab": {
   "name": "Linear_regression.ipynb",
   "provenance": [],
   "authorship_tag": "ABX9TyPTddFkFz49hHR7lipF164f",
   "include_colab_link": true
  },
  "kernelspec": {
   "name": "python3",
   "language": "python",
   "display_name": "Python 3"
  },
  "language_info": {
   "name": "python"
  }
 },
 "cells": [
  {
   "cell_type": "markdown",
   "metadata": {
    "id": "view-in-github",
    "colab_type": "text"
   },
   "source": [
    "<a href=\"https://colab.research.google.com/github/kavanvasani/GRIP/blob/main/Linear_regression.ipynb\" target=\"_parent\"><img src=\"https://colab.research.google.com/assets/colab-badge.svg\" alt=\"Open In Colab\"/></a>"
   ]
  },
  {
   "cell_type": "markdown",
   "metadata": {
    "id": "JCORqjKkVCI1"
   },
   "source": [
    "# GRIP Task 1\n",
    "### Linear Regression\n"
   ]
  },
  {
   "cell_type": "markdown",
   "metadata": {
    "id": "597niR-KmjlS"
   },
   "source": [
    "Importing necessary libraries"
   ]
  },
  {
   "cell_type": "code",
   "metadata": {
    "id": "9BPiZIe3U-cM"
   },
   "source": [
    "import pandas as pd\n",
    "import numpy as np\n",
    "import matplotlib.pyplot as plt\n",
    "%matplotlib inline"
   ],
   "execution_count": 1,
   "outputs": []
  },
  {
   "cell_type": "markdown",
   "metadata": {
    "id": "pgyif9fmmn25"
   },
   "source": [
    "Fetching the data"
   ]
  },
  {
   "cell_type": "code",
   "metadata": {
    "colab": {
     "base_uri": "https://localhost:8080/",
     "height": 204
    },
    "id": "gCLfLcZqWI17",
    "outputId": "f0ada18f-58aa-4ddd-98ee-6168fbeda8d8"
   },
   "source": [
    "df = pd.read_csv(\"http://bit.ly/w-data\")\n",
    "df.head()"
   ],
   "execution_count": 2,
   "outputs": [
    {
     "data": {
      "text/plain": "   Hours  Scores\n0    2.5      21\n1    5.1      47\n2    3.2      27\n3    8.5      75\n4    3.5      30",
      "text/html": "<div>\n<style scoped>\n    .dataframe tbody tr th:only-of-type {\n        vertical-align: middle;\n    }\n\n    .dataframe tbody tr th {\n        vertical-align: top;\n    }\n\n    .dataframe thead th {\n        text-align: right;\n    }\n</style>\n<table border=\"1\" class=\"dataframe\">\n  <thead>\n    <tr style=\"text-align: right;\">\n      <th></th>\n      <th>Hours</th>\n      <th>Scores</th>\n    </tr>\n  </thead>\n  <tbody>\n    <tr>\n      <th>0</th>\n      <td>2.5</td>\n      <td>21</td>\n    </tr>\n    <tr>\n      <th>1</th>\n      <td>5.1</td>\n      <td>47</td>\n    </tr>\n    <tr>\n      <th>2</th>\n      <td>3.2</td>\n      <td>27</td>\n    </tr>\n    <tr>\n      <th>3</th>\n      <td>8.5</td>\n      <td>75</td>\n    </tr>\n    <tr>\n      <th>4</th>\n      <td>3.5</td>\n      <td>30</td>\n    </tr>\n  </tbody>\n</table>\n</div>"
     },
     "execution_count": 2,
     "metadata": {},
     "output_type": "execute_result"
    }
   ]
  },
  {
   "cell_type": "code",
   "metadata": {
    "colab": {
     "base_uri": "https://localhost:8080/"
    },
    "id": "quOKn0lnWUVB",
    "outputId": "f802c097-fd26-45b1-b640-ff79fa0452b6"
   },
   "source": [
    "df.info()"
   ],
   "execution_count": 3,
   "outputs": [
    {
     "name": "stdout",
     "output_type": "stream",
     "text": [
      "<class 'pandas.core.frame.DataFrame'>\n",
      "RangeIndex: 25 entries, 0 to 24\n",
      "Data columns (total 2 columns):\n",
      " #   Column  Non-Null Count  Dtype  \n",
      "---  ------  --------------  -----  \n",
      " 0   Hours   25 non-null     float64\n",
      " 1   Scores  25 non-null     int64  \n",
      "dtypes: float64(1), int64(1)\n",
      "memory usage: 528.0 bytes\n"
     ]
    }
   ]
  },
  {
   "cell_type": "markdown",
   "metadata": {
    "id": "7qrGqNs3mqzt"
   },
   "source": [
    "Visualising the data"
   ]
  },
  {
   "cell_type": "code",
   "metadata": {
    "colab": {
     "base_uri": "https://localhost:8080/",
     "height": 265
    },
    "id": "qHlLXlJnWcf4",
    "outputId": "f81f2510-c435-48d3-e530-aa4f66243988"
   },
   "source": [
    "fig , ax = plt.subplots()\n",
    "ax.scatter(df[\"Hours\"],df[\"Scores\"]);"
   ],
   "execution_count": 4,
   "outputs": [
    {
     "data": {
      "text/plain": "<Figure size 432x288 with 1 Axes>",
      "image/png": "[encoded data removed]"
     },
     "metadata": {
      "needs_background": "light"
     },
     "output_type": "display_data"
    }
   ]
  },
  {
   "cell_type": "code",
   "metadata": {
    "colab": {
     "base_uri": "https://localhost:8080/",
     "height": 204
    },
    "id": "U0OdLGEGWqmv",
    "outputId": "9b16afc5-9482-4f73-fd09-031a38c1cadc"
   },
   "source": [
    "X = df.drop(\"Scores\",axis = 1)\n",
    "y = df[\"Scores\"]\n",
    "X.head()"
   ],
   "execution_count": 5,
   "outputs": [
    {
     "data": {
      "text/plain": "   Hours\n0    2.5\n1    5.1\n2    3.2\n3    8.5\n4    3.5",
      "text/html": "<div>\n<style scoped>\n    .dataframe tbody tr th:only-of-type {\n        vertical-align: middle;\n    }\n\n    .dataframe tbody tr th {\n        vertical-align: top;\n    }\n\n    .dataframe thead th {\n        text-align: right;\n    }\n</style>\n<table border=\"1\" class=\"dataframe\">\n  <thead>\n    <tr style=\"text-align: right;\">\n      <th></th>\n      <th>Hours</th>\n    </tr>\n  </thead>\n  <tbody>\n    <tr>\n      <th>0</th>\n      <td>2.5</td>\n    </tr>\n    <tr>\n      <th>1</th>\n      <td>5.1</td>\n    </tr>\n    <tr>\n      <th>2</th>\n      <td>3.2</td>\n    </tr>\n    <tr>\n      <th>3</th>\n      <td>8.5</td>\n    </tr>\n    <tr>\n      <th>4</th>\n      <td>3.5</td>\n    </tr>\n  </tbody>\n</table>\n</div>"
     },
     "execution_count": 5,
     "metadata": {},
     "output_type": "execute_result"
    }
   ]
  },
  {
   "cell_type": "code",
   "metadata": {
    "colab": {
     "base_uri": "https://localhost:8080/"
    },
    "id": "TJ3xkffmYqBu",
    "outputId": "d7297632-d1d9-4929-f50d-5310b73a095f"
   },
   "source": [
    "y.head()"
   ],
   "execution_count": 6,
   "outputs": [
    {
     "data": {
      "text/plain": "0    21\n1    47\n2    27\n3    75\n4    30\nName: Scores, dtype: int64"
     },
     "execution_count": 6,
     "metadata": {},
     "output_type": "execute_result"
    }
   ]
  },
  {
   "cell_type": "markdown",
   "metadata": {
    "id": "pe-iTX52mv7G"
   },
   "source": [
    "Splitting the data into training and test sets"
   ]
  },
  {
   "cell_type": "code",
   "metadata": {
    "id": "a7BfqOJGW7Wn"
   },
   "source": [
    "from sklearn.model_selection import train_test_split  \n",
    "np.random.seed(28)\n",
    "X_train,X_test,y_train,y_test = train_test_split(X,y,test_size = 0.2)"
   ],
   "execution_count": 7,
   "outputs": []
  },
  {
   "cell_type": "code",
   "metadata": {
    "colab": {
     "base_uri": "https://localhost:8080/"
    },
    "id": "xaoiK8-TZEjH",
    "outputId": "9006ee78-5797-4867-bc96-44deeb80508b"
   },
   "source": [
    "X_train, len(X_train)"
   ],
   "execution_count": 8,
   "outputs": [
    {
     "data": {
      "text/plain": "(    Hours\n 14    1.1\n 9     2.7\n 6     9.2\n 24    7.8\n 7     5.5\n 15    8.9\n 2     3.2\n 13    3.3\n 8     8.3\n 23    6.9\n 16    2.5\n 18    6.1\n 21    4.8\n 12    4.5\n 3     8.5\n 0     2.5\n 20    2.7\n 22    3.8\n 5     1.5\n 1     5.1,\n 20)"
     },
     "execution_count": 8,
     "metadata": {},
     "output_type": "execute_result"
    }
   ]
  },
  {
   "cell_type": "code",
   "metadata": {
    "colab": {
     "base_uri": "https://localhost:8080/"
    },
    "id": "6hMK5W2-ZGla",
    "outputId": "f3f8712d-0bfb-47f3-faa5-5ad5364ea919"
   },
   "source": [
    "y_train.head(), len(y_train)"
   ],
   "execution_count": 9,
   "outputs": [
    {
     "data": {
      "text/plain": "(14    17\n 9     25\n 6     88\n 24    86\n 7     60\n Name: Scores, dtype: int64,\n 20)"
     },
     "execution_count": 9,
     "metadata": {},
     "output_type": "execute_result"
    }
   ]
  },
  {
   "cell_type": "code",
   "metadata": {
    "colab": {
     "base_uri": "https://localhost:8080/"
    },
    "id": "z_8Le9oUZJjk",
    "outputId": "8b2cf019-1f3b-44a9-d770-7806f8251797"
   },
   "source": [
    "len(X_test),len(y_test)"
   ],
   "execution_count": 10,
   "outputs": [
    {
     "data": {
      "text/plain": "(5, 5)"
     },
     "execution_count": 10,
     "metadata": {},
     "output_type": "execute_result"
    }
   ]
  },
  {
   "cell_type": "markdown",
   "metadata": {
    "id": "mukM5fUAm16D"
   },
   "source": [
    "Using the Linear Regression model"
   ]
  },
  {
   "cell_type": "code",
   "metadata": {
    "id": "L7mffwulZasx"
   },
   "source": [
    "from sklearn.linear_model import LinearRegression\n",
    "use = LinearRegression()"
   ],
   "execution_count": 11,
   "outputs": []
  },
  {
   "cell_type": "code",
   "metadata": {
    "colab": {
     "base_uri": "https://localhost:8080/"
    },
    "id": "QLq5D8eCeNTu",
    "outputId": "21ef9eaa-e537-40fe-cead-58297906979b"
   },
   "source": [
    "X_test.info()"
   ],
   "execution_count": 12,
   "outputs": [
    {
     "name": "stdout",
     "output_type": "stream",
     "text": [
      "<class 'pandas.core.frame.DataFrame'>\n",
      "Int64Index: 5 entries, 10 to 4\n",
      "Data columns (total 1 columns):\n",
      " #   Column  Non-Null Count  Dtype  \n",
      "---  ------  --------------  -----  \n",
      " 0   Hours   5 non-null      float64\n",
      "dtypes: float64(1)\n",
      "memory usage: 80.0 bytes\n"
     ]
    }
   ]
  },
  {
   "cell_type": "code",
   "metadata": {
    "colab": {
     "base_uri": "https://localhost:8080/"
    },
    "id": "AlafVXfjaKj3",
    "outputId": "c29382d0-69a8-4b5e-d4ba-35914c299cff"
   },
   "source": [
    "use.fit(X_train,y_train)"
   ],
   "execution_count": 13,
   "outputs": [
    {
     "data": {
      "text/plain": "LinearRegression()"
     },
     "execution_count": 13,
     "metadata": {},
     "output_type": "execute_result"
    }
   ]
  },
  {
   "cell_type": "markdown",
   "metadata": {
    "id": "XBwWTn4DnVVP"
   },
   "source": [
    "Visualising the best fit"
   ]
  },
  {
   "cell_type": "code",
   "metadata": {
    "colab": {
     "base_uri": "https://localhost:8080/",
     "height": 281
    },
    "id": "BynMQoahaVmi",
    "outputId": "60ea77d5-a348-423a-c003-6770f6286e0e"
   },
   "source": [
    "draw = use.coef_*X + use.intercept_\n",
    "plt.plot(X,draw)\n",
    "plt.scatter(X,y)\n",
    "plt.title(\"Regressor Line Fit\")\n",
    "plt.show();"
   ],
   "execution_count": 14,
   "outputs": [
    {
     "data": {
      "text/plain": "<Figure size 432x288 with 1 Axes>",
      "image/png": "[encoded data removed]"
     },
     "metadata": {
      "needs_background": "light"
     },
     "output_type": "display_data"
    }
   ]
  },
  {
   "cell_type": "markdown",
   "metadata": {
    "id": "hKN8uQ7znZCC"
   },
   "source": [
    "Making predictions"
   ]
  },
  {
   "cell_type": "code",
   "metadata": {
    "colab": {
     "base_uri": "https://localhost:8080/"
    },
    "id": "AzJ2Y1PDcHzG",
    "outputId": "47b9160a-2045-49aa-fab9-5ef49041832d"
   },
   "source": [
    "y_preds = use.predict(X_test)\n",
    "y_preds"
   ],
   "execution_count": 15,
   "outputs": [
    {
     "data": {
      "text/plain": "array([77.60629708, 74.69272571, 21.2772506 , 60.12486886, 36.8162979 ])"
     },
     "execution_count": 15,
     "metadata": {},
     "output_type": "execute_result"
    }
   ]
  },
  {
   "cell_type": "markdown",
   "metadata": {
    "id": "xQYLvLbrnbh9"
   },
   "source": [
    "Comparing the predictions with the actual values"
   ]
  },
  {
   "cell_type": "code",
   "metadata": {
    "colab": {
     "base_uri": "https://localhost:8080/",
     "height": 204
    },
    "id": "sbtjBAqhctSE",
    "outputId": "e8324a9a-898b-4b26-89fa-1991d51aea93"
   },
   "source": [
    "predictions = pd.DataFrame({'Actual':y_test,'Predicted':y_preds})\n",
    "predictions.head()"
   ],
   "execution_count": 16,
   "outputs": [
    {
     "data": {
      "text/plain": "    Actual  Predicted\n10      85  77.606297\n19      69  74.692726\n17      24  21.277251\n11      62  60.124869\n4       30  36.816298",
      "text/html": "<div>\n<style scoped>\n    .dataframe tbody tr th:only-of-type {\n        vertical-align: middle;\n    }\n\n    .dataframe tbody tr th {\n        vertical-align: top;\n    }\n\n    .dataframe thead th {\n        text-align: right;\n    }\n</style>\n<table border=\"1\" class=\"dataframe\">\n  <thead>\n    <tr style=\"text-align: right;\">\n      <th></th>\n      <th>Actual</th>\n      <th>Predicted</th>\n    </tr>\n  </thead>\n  <tbody>\n    <tr>\n      <th>10</th>\n      <td>85</td>\n      <td>77.606297</td>\n    </tr>\n    <tr>\n      <th>19</th>\n      <td>69</td>\n      <td>74.692726</td>\n    </tr>\n    <tr>\n      <th>17</th>\n      <td>24</td>\n      <td>21.277251</td>\n    </tr>\n    <tr>\n      <th>11</th>\n      <td>62</td>\n      <td>60.124869</td>\n    </tr>\n    <tr>\n      <th>4</th>\n      <td>30</td>\n      <td>36.816298</td>\n    </tr>\n  </tbody>\n</table>\n</div>"
     },
     "execution_count": 16,
     "metadata": {},
     "output_type": "execute_result"
    }
   ]
  },
  {
   "cell_type": "markdown",
   "metadata": {
    "id": "GSJrPpZ6drp5"
   },
   "source": [
    "Testing on own data"
   ]
  },
  {
   "cell_type": "code",
   "metadata": {
    "colab": {
     "base_uri": "https://localhost:8080/"
    },
    "id": "oV0EjqyRdhbo",
    "outputId": "949d84a2-9803-46e8-bc93-d38ad6550bf8"
   },
   "source": [
    "time = [[9.25],[26]]\n",
    "my_pred = use.predict(time)\n",
    "print(\"Hours :\",time[0])\n",
    "print(\"Predicted score: \", my_pred[0])"
   ],
   "execution_count": 17,
   "outputs": [
    {
     "name": "stdout",
     "output_type": "stream",
     "text": [
      "Hours : [9.25]\n",
      "Predicted score:  92.65974915422066\n"
     ]
    }
   ]
  },
  {
   "cell_type": "markdown",
   "metadata": {
    "id": "nu9KbjFDngJn"
   },
   "source": [
    "Evaluating the model"
   ]
  },
  {
   "cell_type": "code",
   "metadata": {
    "colab": {
     "base_uri": "https://localhost:8080/"
    },
    "id": "sIJ0Ak0ieCpS",
    "outputId": "4bba3acd-26b7-4b37-e6da-c4773dd2ce57"
   },
   "source": [
    "from sklearn import metrics\n",
    "print(\"Mean absolute error: \", metrics.mean_absolute_error(y_test,y_preds))"
   ],
   "execution_count": 18,
   "outputs": [
    {
     "name": "stdout",
     "output_type": "stream",
     "text": [
      "Mean absolute error:  4.900121415015379\n"
     ]
    }
   ]
  }
 ]
}